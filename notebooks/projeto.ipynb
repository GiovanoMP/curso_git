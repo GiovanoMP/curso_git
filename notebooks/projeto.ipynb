{
 "cells": [
  {
   "cell_type": "markdown",
   "id": "f66f5ab2",
   "metadata": {
    "heading_collapsed": true
   },
   "source": [
    "# COMANDOS AUXILIARES"
   ]
  },
  {
   "cell_type": "markdown",
   "id": "4596b7c0",
   "metadata": {
    "heading_collapsed": true,
    "hidden": true
   },
   "source": [
    "## Imports"
   ]
  },
  {
   "cell_type": "code",
   "execution_count": null,
   "metadata": {},
   "outputs": [],
   "source": [
    "\n"
   ]
  },
  {
   "cell_type": "code",
   "execution_count": null,
   "id": "d10145d2",
   "metadata": {
    "ExecuteTime": {
     "end_time": "2022-07-18T21:50:07.599779Z",
     "start_time": "2022-07-18T21:50:05.663800Z"
    },
    "hidden": true
   },
   "outputs": [],
   "source": [
    "import seaborn as sns\n",
    "import pandas  as pd\n",
    "import numpy   as np\n",
    "import math\n",
    "\n",
    "from datetime import datetime\n",
    "\n",
    "from matplotlib import pyplot as plt"
   ]
  },
  {
   "cell_type": "markdown",
   "metadata": {},
   "source": [
    "## Funções Auxiliares"
   ]
  },
  {
   "cell_type": "code",
   "execution_count": null,
   "metadata": {},
   "outputs": [],
   "source": [
    "# Ajuste do tamanho das imagens\n",
    "sns.set(rc = {'figure.figsize':(15,8)})"
   ]
  },
  {
   "cell_type": "code",
   "execution_count": null,
   "metadata": {},
   "outputs": [],
   "source": [
    "# Função que criará as classes com base nos quilometros percorridos\n",
    "def create_km_class(km_driven):\n",
    "    # Cria a categoria a cada 5 mil Km percorridos\n",
    "    return math.ceil(km_driven / 5000)"
   ]
  },
  {
   "cell_type": "code",
   "execution_count": null,
   "metadata": {},
   "outputs": [],
   "source": [
    "# Função que irá criar \n",
    "def create_sorted_companies_tuple(dataframe):\n",
    "    companies = dataframe['company_name'].to_list()\n",
    "    \n",
    "    companies_aux = [ company.split(' ') for company in companies ]\n",
    "    \n",
    "    companies_aux.sort(key=len, reverse=True)\n",
    "    \n",
    "    sorted_companies = [ ' '.join(company) for company in companies_aux ]\n",
    "    \n",
    "    return tuple(sorted_companies)"
   ]
  },
  {
   "cell_type": "code",
   "execution_count": null,
   "metadata": {},
   "outputs": [],
   "source": [
    "# Função que irá verificar qual a fabricante de cada \n",
    "# moto do dataset\n",
    "def create_company_name(companies, data):\n",
    "    for company in companies:\n",
    "        if company in data['name']:\n",
    "            return company"
   ]
  },
  {
   "cell_type": "markdown",
   "id": "a7175ea5",
   "metadata": {},
   "source": [
    "# KICK OFF DO PROJETO!"
   ]
  },
  {
   "cell_type": "markdown",
   "id": "dadc7973",
   "metadata": {
    "heading_collapsed": true
   },
   "source": [
    "## Contexto do Problema de Negócio"
   ]
  },
  {
   "cell_type": "markdown",
   "id": "974c21fa",
   "metadata": {
    "hidden": true
   },
   "source": [
    "A Xtreme Groovy Bikes Sales é uma empresa de revenda de motocicletas. Seu modelo de nogócio é revender motocicletas usadas. Com a crescente do valor dos veículos usados, a XGB Sales, como é conhecida, deseja expandir os seus negócios. Você foi contratado como cientista de dados pela empresa XGB Sales para ajudá-los a encotrar as melhores motocicletas para revenda. \n",
    "\n",
    "Para isso, o CEO da empresa fez um estudo de mercado lhe entregou uma base de dados, obtida através desse estudo, para que você consiga auxiliá-lo a encontrar as melhores motocicletas para revenda, aumentando assim o lucro da empresa.\n",
    "\n",
    "Além disso, o CEO lhe fez algumas perguntas a cerca da base de dados que a empresa possui.\n",
    "Lembrando que o contexto, pessoas e perguntas são completamente fictícios e existem somente na minha imaginação."
   ]
  },
  {
   "cell_type": "markdown",
   "id": "03539e7c",
   "metadata": {},
   "source": [
    "## O Desafio"
   ]
  },
  {
   "cell_type": "markdown",
   "metadata": {},
   "source": [
    "A empresa XGB Sales lhe contratou como cientista de dados pois ela deseja aumentar o seu lucro comprando e revendendo as melhores motos disponíveis dentro da base de dados que a empresa adquiriu através de um estudo de mercado. "
   ]
  },
  {
   "cell_type": "markdown",
   "metadata": {},
   "source": [
    "### Primeira Rodada de Perguntas"
   ]
  },
  {
   "cell_type": "markdown",
   "id": "2114574c",
   "metadata": {},
   "source": [
    "Dessa forma, o CEO da XGB Sales lhe fez as seguintes perguntas:\n",
    "\n",
    "1. Quantas motos temos dentro do Dataset?\n",
    "2. Qual é o ano da moto mais antiga da base de dados?\n",
    "3. Qual é o ano da moto mais nova da base de dados?\n",
    "4. Qual é o valor da moto mais cara da base de dados?\n",
    "5. Qual é o valor do hodômotro da moto com a maior quilometragem?\n",
    "6. Qual é o valor do hodômotro da moto com a menor quiilometragem?\n",
    "7. Das motocicletas que estão sendo expostas dentro de um Show Room, qual é o maior valor registrado na base de dados?\n",
    "8. Das motocicletas que estão sendo expostas dentro de um Show Room, qual é o menor valor registrado na base de dados?\n",
    "9. Quantas motocicletas estão sendo vendidades pelos seus donos e quantas estão sendo vendidas por outros revendedores?\n",
    "10. Qual é a média de valores das motos na base de dados?\n",
    "11. Qual é a média de ano das motos cadastradas dentro da base de dados?\n",
    "12. Qual é a média de quilometragem das motos cadastradas dentro da base de dados?\n",
    "13. Existem quantas motos dentro da base de dados que são motos de um único dono?\n",
    "14. As motos com menor quilometragem são as motos mais baratas do Dataset?"
   ]
  },
  {
   "cell_type": "markdown",
   "id": "7c57cf3c",
   "metadata": {},
   "source": [
    "### Segunda Rodada de Perguntas"
   ]
  },
  {
   "cell_type": "markdown",
   "id": "f4793d29",
   "metadata": {},
   "source": [
    "Após analisar as respostas das perguntas anteriores, o CEO da XGB Sales lhe fez mais algumas perguntas:\n",
    "\n",
    "1. As motos que possuiram somente 1 dono são as motos mais caras na média que as motos que tiveram mais donos?\n",
    "2. As motos que possuiram mais donos são as motos que possuem quilometragem média maior que as motos que possuiram menos donos?\n",
    "3. As motos que possuiram mais donos são as motos mais velhas na média?\n",
    "4. As motos que são vendidas por revendedores são as motos mais caras na média do que as motos vendidas pelos seus donos?\n",
    "5. O CEO lhe entregou um novo dataset chamado companies.csv, onde estão todas as fabricantes de motocicletas. Adicione uma coluna no DataFrame com o nome de company. Essa coluna deve possuir o nome do fabricante de cada moto do DataFrame.\n",
    "6. Crie um novo dataset chamado bikes_completed.csv a partir do DataFrame com a coluna company preenchida.\n",
    "7. Quais são so fabricantes que mais possuem motos cadastradas na base de dados completa?"
   ]
  },
  {
   "cell_type": "markdown",
   "id": "7c57cf3c",
   "metadata": {},
   "source": [
    "### Terceira Rodada de Perguntas"
   ]
  },
  {
   "cell_type": "markdown",
   "id": "f4793d29",
   "metadata": {},
   "source": [
    "Após analisar as respostas das perguntas anteriores, o CEO da XGB Sales lhe fez mais algumas perguntas:\n",
    "\n",
    "1. Ajustar a coluna `name` para que ela fique somente com o nome da moto.\n",
    "2. Qual das fabricantes possui o maior preço médio de suas motos?\n",
    "3. Qual o fabricante que possui a moto com o maior quilometragem?\n",
    "4. Qual o fabricante que possui a moto mais velha?\n",
    "5. O fabricante que possui a moto mais cara do Dataset é também o fabricante que possui menos motos cadastradas?\n",
    "6. Qual o fabricante que possui a menor variação de valor de venda?\n",
    "7. Quais motos eu devo comprar? \n",
    "   - Leve em conta que eu desejo motos com no máximo 3 anos de uso; no máximo 40 mil quilometros rodados; que sejam de um único dono; que estejam sendo vendidas por possoas físicas e que tenham o valor pretendido de venda menor que o valor do showroom. Envie um relatório contendo o modelo, preço de venda, quilometro rodado e ano, ordenado por valor de venda de forma decrescente para o meu e-mail.\n"
   ]
  },
  {
   "cell_type": "markdown",
   "id": "bf69ae6d",
   "metadata": {
    "heading_collapsed": true
   },
   "source": [
    "## A Base de Dados"
   ]
  },
  {
   "cell_type": "markdown",
   "id": "5e9f4dbc",
   "metadata": {
    "hidden": true
   },
   "source": [
    "O conjunto de dados que representam o contexto está disponível na plataforma do Kaggle. O link para acesso aos dados: [Motorcycle Dataset](https://www.kaggle.com/datasets/nehalbirla/motorcycle-dataset)\n",
    "\n",
    "Além disso, eles podem ser encontrados dentro do diretóirio `data` deste projeto."
   ]
  },
  {
   "cell_type": "markdown",
   "metadata": {},
   "source": [
    "# Resolução do Desafio"
   ]
  },
  {
   "cell_type": "markdown",
   "metadata": {},
   "source": [
    "## Carregamento dos dados"
   ]
  },
  {
   "cell_type": "code",
   "execution_count": null,
   "metadata": {},
   "outputs": [],
   "source": [
    "df_raw = pd.read_csv('../data/raw/bike.csv')\n",
    "df_raw.head()"
   ]
  },
  {
   "cell_type": "markdown",
   "metadata": {},
   "source": [
    "## Preparação dos Dados"
   ]
  },
  {
   "cell_type": "markdown",
   "metadata": {},
   "source": [
    "### Verificação de Tipos"
   ]
  },
  {
   "cell_type": "code",
   "execution_count": null,
   "metadata": {},
   "outputs": [],
   "source": [
    "df_raw.dtypes"
   ]
  },
  {
   "cell_type": "markdown",
   "metadata": {},
   "source": [
    "### Criação da Coluna `id`"
   ]
  },
  {
   "cell_type": "code",
   "execution_count": null,
   "metadata": {},
   "outputs": [],
   "source": [
    "df_raw = df_raw.reset_index()\n",
    "df_raw = df_raw.rename(columns={'index': 'id'})\n",
    "df_raw.head()"
   ]
  },
  {
   "cell_type": "markdown",
   "metadata": {},
   "source": [
    "### Ajuste do tipo de dados da coluna `selling_price`"
   ]
  },
  {
   "cell_type": "code",
   "execution_count": null,
   "metadata": {},
   "outputs": [],
   "source": [
    "# Deixando a coluna ex_showroom_price e selling_price na mesma grandeza\n",
    "df_raw['selling_price'] = df_raw['selling_price'].astype(float)\n",
    "df_raw.head()"
   ]
  },
  {
   "cell_type": "markdown",
   "metadata": {},
   "source": [
    "### Criando a Coluna `age`"
   ]
  },
  {
   "cell_type": "code",
   "execution_count": null,
   "metadata": {},
   "outputs": [],
   "source": [
    "df_raw['age'] = df_raw['year'].apply( lambda year: datetime.now().year - year )\n",
    "df_raw.head()"
   ]
  },
  {
   "cell_type": "markdown",
   "metadata": {},
   "source": [
    "### Criando a Coluna `km_class`"
   ]
  },
  {
   "cell_type": "code",
   "execution_count": null,
   "metadata": {},
   "outputs": [],
   "source": [
    "df_raw['km_class'] = df_raw['km_driven'].apply( lambda km_driven: create_km_class(km_driven) )\n",
    "df_raw.head()"
   ]
  },
  {
   "cell_type": "markdown",
   "metadata": {},
   "source": [
    "### Criando a Coluna `km_per_year`"
   ]
  },
  {
   "cell_type": "code",
   "execution_count": null,
   "metadata": {},
   "outputs": [],
   "source": [
    "df_raw['km_per_year'] = df_raw.apply( lambda line: round(line['km_driven'] / line['age'], 3), axis=1 )\n",
    "df_raw.head()"
   ]
  },
  {
   "cell_type": "markdown",
   "metadata": {},
   "source": [
    "### Criando a Coluna `km_per_month`"
   ]
  },
  {
   "cell_type": "code",
   "execution_count": null,
   "metadata": {},
   "outputs": [],
   "source": [
    "df_raw['km_per_month'] = df_raw.apply( lambda line: round(line['km_per_year'] / 12, 3), axis=1 )\n",
    "df_raw.head()"
   ]
  },
  {
   "cell_type": "markdown",
   "metadata": {},
   "source": [
    "### Criando a coluna `company`"
   ]
  },
  {
   "cell_type": "code",
   "execution_count": null,
   "metadata": {},
   "outputs": [],
   "source": [
    "# Lendo o dataset de fabricantes\n",
    "companies = pd.read_csv('../data/raw/companies.csv', index_col=0)\n",
    "\n",
    "# Método novo\n",
    "companies_tuple = create_sorted_companies_tuple(companies)\n",
    "\n",
    "# Criando a coluna `company` no DataFrame\n",
    "df_raw['company'] = df_raw.apply(lambda line: create_company_name(companies_tuple, line), axis=1)\n",
    "\n",
    "df_raw.head()"
   ]
  },
  {
   "cell_type": "markdown",
   "metadata": {},
   "source": [
    "### Descrição das Colunas"
   ]
  },
  {
   "cell_type": "markdown",
   "metadata": {},
   "source": [
    "| Coluna | Descrição |\n",
    "| :----- | --------: |\n",
    "| ID | Identificador da linha/registro |\n",
    "| name | Fabricante e Modelo da Moto |\n",
    "| selling_price | Preço de Venda |\n",
    "| year | Ano de Fabricação da Moto |\n",
    "| seller_type | Tipo de Vendedor - Se é vendedor pessoal ou revendedor |\n",
    "| owner | Se é primeiro, segundo, terceiro ou quarto dono da moto |\n",
    "| km_driven | Quantidade de Quilometros percorrido pela moto |\n",
    "| ex_showroom_price | Preço da motocicleta sem as taxas de seguro e registro |\n",
    "| age | Quantidade de anos em que a moto está em uso |\n",
    "| km_class | Classificação das motos conforme a quilometragem percorrida |\n",
    "| km_per_year | Quantidade de Quilometros percorridos a cada ano |\n",
    "| km_per_month | Quantidade de Quilometros percorridos por mês |\n",
    "| company | Fabricanete da Motocicleta |"
   ]
  },
  {
   "cell_type": "markdown",
   "metadata": {},
   "source": [
    "## Respondendo as Perguntas"
   ]
  },
  {
   "cell_type": "markdown",
   "metadata": {},
   "source": [
    "### Primeira Rodada"
   ]
  },
  {
   "cell_type": "code",
   "execution_count": null,
   "metadata": {},
   "outputs": [],
   "source": [
    "df1 = df_raw.copy()"
   ]
  },
  {
   "cell_type": "markdown",
   "id": "b3cb9c69",
   "metadata": {},
   "source": [
    "#### 1. Quantas motos temos dentro do Dataset?"
   ]
  },
  {
   "cell_type": "markdown",
   "id": "74c76201",
   "metadata": {},
   "source": [
    "##### Planejamento"
   ]
  },
  {
   "cell_type": "markdown",
   "id": "00b3f049",
   "metadata": {},
   "source": [
    "Verificar a quantidade de linhas que existem dentro do dataset"
   ]
  },
  {
   "cell_type": "markdown",
   "id": "0a414510",
   "metadata": {},
   "source": [
    "##### Resolução"
   ]
  },
  {
   "cell_type": "code",
   "execution_count": null,
   "id": "d8cc0791",
   "metadata": {},
   "outputs": [],
   "source": [
    "print(f'A quantidade de motos registradas no Dataset é de {df1.shape[0]} motos')"
   ]
  },
  {
   "cell_type": "markdown",
   "id": "6aa6a5e9",
   "metadata": {},
   "source": [
    "#### 2. Qual é o ano da moto mais antiga da base de dados?"
   ]
  },
  {
   "cell_type": "markdown",
   "id": "6dacea3b",
   "metadata": {},
   "source": [
    "##### Planejamento"
   ]
  },
  {
   "cell_type": "markdown",
   "id": "62ef3781",
   "metadata": {},
   "source": [
    "Verificar qual o menor valor da coluna `year` da base de dados"
   ]
  },
  {
   "cell_type": "markdown",
   "id": "064176e1",
   "metadata": {},
   "source": [
    "##### Resolução"
   ]
  },
  {
   "cell_type": "code",
   "execution_count": null,
   "id": "699641a1",
   "metadata": {},
   "outputs": [],
   "source": [
    "antiga = df1[df1['year'] == df1['year'].min()]\n",
    "antiga"
   ]
  },
  {
   "cell_type": "code",
   "execution_count": null,
   "id": "cbec2d7c",
   "metadata": {},
   "outputs": [],
   "source": [
    "print(f'O ano da moto mais antiga é {antiga.iloc[0,3]}')"
   ]
  },
  {
   "cell_type": "markdown",
   "id": "eb3a9242",
   "metadata": {},
   "source": [
    "#### 3. Qual é o ano da moto mais nova da base de dados?"
   ]
  },
  {
   "cell_type": "markdown",
   "id": "69aa7be7",
   "metadata": {},
   "source": [
    "##### Planejamento"
   ]
  },
  {
   "cell_type": "markdown",
   "id": "4c8991ed",
   "metadata": {},
   "source": [
    "Verificar qual é o maior valor da coluna `year`"
   ]
  },
  {
   "cell_type": "markdown",
   "id": "e4b03f2d",
   "metadata": {},
   "source": [
    "##### Resolução"
   ]
  },
  {
   "cell_type": "code",
   "execution_count": null,
   "id": "34820af1",
   "metadata": {},
   "outputs": [],
   "source": [
    "nova = df_raw[df_raw['year'] == df_raw['year'].max()]\n",
    "nova"
   ]
  },
  {
   "cell_type": "code",
   "execution_count": null,
   "id": "da975530",
   "metadata": {},
   "outputs": [],
   "source": [
    "print(f'O da moto mais nova é {nova.iloc[0, 3]}')"
   ]
  },
  {
   "cell_type": "markdown",
   "id": "3ddd42ae",
   "metadata": {},
   "source": [
    "#### 4. Qual é o valor da moto mais cara da base de dados?"
   ]
  },
  {
   "cell_type": "markdown",
   "id": "aa37f289",
   "metadata": {},
   "source": [
    "##### Planejamento"
   ]
  },
  {
   "cell_type": "markdown",
   "id": "48e71e72",
   "metadata": {},
   "source": [
    "Verificar qual é o maior valor da coluna `selling_price`"
   ]
  },
  {
   "cell_type": "markdown",
   "id": "3d27e322",
   "metadata": {},
   "source": [
    "##### Resposta"
   ]
  },
  {
   "cell_type": "code",
   "execution_count": null,
   "id": "19eb7906",
   "metadata": {},
   "outputs": [],
   "source": [
    "cara = df1[df1['selling_price'] == df1['selling_price'].max()]\n",
    "cara"
   ]
  },
  {
   "cell_type": "code",
   "execution_count": null,
   "id": "6a34d040",
   "metadata": {},
   "outputs": [],
   "source": [
    "print(f'O valor da mot mais cara da base de dados é U$ {cara.iloc[0, 2]:.2f}')"
   ]
  },
  {
   "cell_type": "markdown",
   "id": "b1dd646b",
   "metadata": {},
   "source": [
    "#### 5. Qual é o valor do hodômotro da moto com a maior quilometragem?"
   ]
  },
  {
   "cell_type": "markdown",
   "id": "ded7908c",
   "metadata": {},
   "source": [
    "##### Planejamento"
   ]
  },
  {
   "cell_type": "markdown",
   "id": "ef3c4135",
   "metadata": {},
   "source": [
    "Verificar qual é o maior valor da coluna `km_driven`"
   ]
  },
  {
   "cell_type": "markdown",
   "id": "730dd381",
   "metadata": {},
   "source": [
    "##### Resolução"
   ]
  },
  {
   "cell_type": "code",
   "execution_count": null,
   "id": "16aa489f",
   "metadata": {},
   "outputs": [],
   "source": [
    "maior_km = df1[df1['km_driven'] == df1['km_driven'].max()]\n",
    "maior_km\n"
   ]
  },
  {
   "cell_type": "code",
   "execution_count": null,
   "id": "71a1f902",
   "metadata": {},
   "outputs": [],
   "source": [
    "print(f'A moto que possui a maior quilometragem da base de dados andou {maior_km.iloc[0, 6]} Km')"
   ]
  },
  {
   "cell_type": "markdown",
   "id": "f44b9ca8",
   "metadata": {},
   "source": [
    "#### 6. Qual é o valor do hodômotro da moto com a menor quiilometragem?"
   ]
  },
  {
   "cell_type": "markdown",
   "id": "195c9e9f",
   "metadata": {},
   "source": [
    "##### Planejamento"
   ]
  },
  {
   "cell_type": "markdown",
   "id": "7e75213f",
   "metadata": {},
   "source": [
    "Verificar qual é o menor valor da coluna `km_driven`"
   ]
  },
  {
   "cell_type": "markdown",
   "id": "a2563bf9",
   "metadata": {},
   "source": [
    "##### Resposta"
   ]
  },
  {
   "cell_type": "code",
   "execution_count": null,
   "id": "8af9ba86",
   "metadata": {},
   "outputs": [],
   "source": [
    "menor_km = df1[df1['km_driven'] == df1['km_driven'].min()]\n",
    "menor_km"
   ]
  },
  {
   "cell_type": "code",
   "execution_count": null,
   "id": "8ac703b2",
   "metadata": {},
   "outputs": [],
   "source": [
    "print(f'A moto que possui a menor quilometragem da base de dados andou {menor_km.iloc[0, 6]} Km')"
   ]
  },
  {
   "cell_type": "markdown",
   "id": "7c29cbd6",
   "metadata": {},
   "source": [
    "#### 7. Das motos que possuem o valor de venda sem as taxas de registro e seguro, qual seria o maior valor registrado na base de dados para essa coluna?"
   ]
  },
  {
   "cell_type": "markdown",
   "id": "3c71b418",
   "metadata": {},
   "source": [
    "##### Planejamento"
   ]
  },
  {
   "cell_type": "markdown",
   "id": "ffd30eec",
   "metadata": {},
   "source": [
    "Verificar qual é o maior valor registrado na coluna `ex_showroom_price`"
   ]
  },
  {
   "cell_type": "markdown",
   "id": "124d0974",
   "metadata": {},
   "source": [
    "##### Resposta"
   ]
  },
  {
   "cell_type": "code",
   "execution_count": null,
   "id": "0c4a4d39",
   "metadata": {},
   "outputs": [],
   "source": [
    "ex_cara = df1[df1['ex_showroom_price'] == df1['ex_showroom_price'].max()]\n",
    "ex_cara"
   ]
  },
  {
   "cell_type": "code",
   "execution_count": null,
   "id": "f0c15623",
   "metadata": {},
   "outputs": [],
   "source": [
    "print(f'O maior valor da moto sem as taxas de registro e seguro é de U$ {ex_cara.iloc[0, 7]:.2f}')"
   ]
  },
  {
   "cell_type": "markdown",
   "id": "5f943211",
   "metadata": {},
   "source": [
    "#### 8. Das motos que que possuem o valor de venda sem as taxas de registro e seguro, qual seria o menor valor registrado na base de dados para essa coluna?"
   ]
  },
  {
   "cell_type": "markdown",
   "id": "b5677aa8",
   "metadata": {},
   "source": [
    "##### Planejamento"
   ]
  },
  {
   "cell_type": "markdown",
   "id": "ca0b2464",
   "metadata": {},
   "source": [
    "Verificar qual é o menor valor registrado na coluna `ex_showroom_price`"
   ]
  },
  {
   "cell_type": "markdown",
   "id": "ee639743",
   "metadata": {},
   "source": [
    "##### Resposta"
   ]
  },
  {
   "cell_type": "code",
   "execution_count": null,
   "id": "129e88a0",
   "metadata": {},
   "outputs": [],
   "source": [
    "ex_barata = df1[df1['ex_showroom_price'] == df1['ex_showroom_price'].min()]\n",
    "ex_barata"
   ]
  },
  {
   "cell_type": "code",
   "execution_count": null,
   "id": "fe5aa554",
   "metadata": {},
   "outputs": [],
   "source": [
    "print(f'O maior valor da moto sem as taxas de registro e seguro é de U$ {ex_barata.iloc[0, 7]:.2f}')"
   ]
  },
  {
   "cell_type": "markdown",
   "id": "0037f51e",
   "metadata": {},
   "source": [
    "#### 9. Quantas motocicletas estão sendo vendidades por donos próprio e quantas estão sendo vendidas por revendedores?"
   ]
  },
  {
   "cell_type": "markdown",
   "id": "9d8ad4e4",
   "metadata": {},
   "source": [
    "##### Planejamento"
   ]
  },
  {
   "cell_type": "markdown",
   "id": "6fe0461c",
   "metadata": {},
   "source": [
    "Contar quantas linhas possuem a coluna `seller_type` preenchida com o conteúdo 'Individual' e quantas estão preenchdidas com o conteúdo 'Dealer'. \n",
    "\n",
    "Uma das maneiras de verificar isso é agrupando os dados pela coluna `seller_type` e depois realizar uma contagem nos dados"
   ]
  },
  {
   "cell_type": "markdown",
   "id": "6f6dadcc",
   "metadata": {},
   "source": [
    "##### Resposta"
   ]
  },
  {
   "cell_type": "code",
   "execution_count": null,
   "id": "7d47ece1",
   "metadata": {},
   "outputs": [],
   "source": [
    "df_grouped = df1[['id', 'seller_type']].groupby('seller_type')\n",
    "\n",
    "df_grouped = df_grouped.count().reset_index()\n",
    "\n",
    "df_grouped = df_grouped.rename(columns={'id': 'count'})\n",
    "\n",
    "df_grouped"
   ]
  },
  {
   "cell_type": "code",
   "execution_count": null,
   "id": "10517d54",
   "metadata": {},
   "outputs": [],
   "source": [
    "print(f'Dessa forma, temos {df_grouped.loc[0, \"count\"]} motos sendo vendidas por revendedores')\n",
    "print(f'E temos {df_grouped.loc[1, \"count\"]} motos sendo vendidas por seus donos')"
   ]
  },
  {
   "cell_type": "code",
   "execution_count": null,
   "metadata": {},
   "outputs": [],
   "source": [
    "ax = sns.barplot(\n",
    "    data = df_grouped,\n",
    "    x = 'seller_type',\n",
    "    y = 'count'\n",
    ")\n",
    "\n",
    "ax.bar_label(ax.containers[0])\n",
    "\n",
    "ax.set(\n",
    "    title = 'Quantidade de Tipos de Vendendores',\n",
    "    xlabel = 'Tipos de Vendedores',\n",
    "    ylabel = 'Quantidade'\n",
    ");"
   ]
  },
  {
   "cell_type": "markdown",
   "id": "6e259b99",
   "metadata": {},
   "source": [
    "#### 10. Qual é a média de valores das motos na base de dados?"
   ]
  },
  {
   "cell_type": "markdown",
   "id": "68a8b19a",
   "metadata": {},
   "source": [
    "##### Planejamento"
   ]
  },
  {
   "cell_type": "markdown",
   "id": "e07043f0",
   "metadata": {},
   "source": [
    "Calcular a média dos valores da coluna `selling_price`. \n",
    "\n",
    "Uma maneira de realizar esse cálculo é selecionar os dados da coluna `selling_price` e utilizar a função `mean()`."
   ]
  },
  {
   "cell_type": "markdown",
   "id": "e65339f0",
   "metadata": {},
   "source": [
    "##### Resposta"
   ]
  },
  {
   "cell_type": "code",
   "execution_count": null,
   "id": "8510e6a2",
   "metadata": {},
   "outputs": [],
   "source": [
    "media = df1['selling_price'].mean()\n",
    "media"
   ]
  },
  {
   "cell_type": "code",
   "execution_count": null,
   "id": "6b789de3",
   "metadata": {},
   "outputs": [],
   "source": [
    "print(f'O valor média do preço de venda das motos é de U$ {media:.2f}')"
   ]
  },
  {
   "cell_type": "markdown",
   "id": "87c5d50c",
   "metadata": {},
   "source": [
    "#### 11. Qual é a média de ano das motos cadastradas dentro da base de dados?"
   ]
  },
  {
   "cell_type": "markdown",
   "id": "d7943b29",
   "metadata": {},
   "source": [
    "##### Planejamento"
   ]
  },
  {
   "cell_type": "markdown",
   "id": "b7ed6b5b",
   "metadata": {},
   "source": [
    "Calcularmos a média dos valores que estão na coluna `year`."
   ]
  },
  {
   "cell_type": "markdown",
   "id": "f6a3481b",
   "metadata": {},
   "source": [
    "##### Resolução"
   ]
  },
  {
   "cell_type": "code",
   "execution_count": null,
   "id": "e4a2ff47",
   "metadata": {},
   "outputs": [],
   "source": [
    "media_y = df1['year'].mean()\n",
    "media_y"
   ]
  },
  {
   "cell_type": "code",
   "execution_count": null,
   "id": "ae8d7e73",
   "metadata": {},
   "outputs": [],
   "source": [
    "print(f'A média do ano das motos da base de dados é {media_y:.0f}')"
   ]
  },
  {
   "cell_type": "markdown",
   "id": "eb499820",
   "metadata": {},
   "source": [
    "#### 12. Qual é a média de quilometragem das motos cadastradas dentro da base de dados?"
   ]
  },
  {
   "cell_type": "markdown",
   "id": "54079508",
   "metadata": {},
   "source": [
    "##### Planejamento"
   ]
  },
  {
   "cell_type": "markdown",
   "id": "b4d6610f",
   "metadata": {},
   "source": [
    "Calcular a média dos valores da coluna `km_driven`"
   ]
  },
  {
   "cell_type": "markdown",
   "id": "3e2a2cf3",
   "metadata": {},
   "source": [
    "##### Resposta"
   ]
  },
  {
   "cell_type": "code",
   "execution_count": null,
   "id": "bf7ac521",
   "metadata": {},
   "outputs": [],
   "source": [
    "media_km = df1['km_driven'].mean()\n",
    "media_km"
   ]
  },
  {
   "cell_type": "code",
   "execution_count": null,
   "id": "8d3237b1",
   "metadata": {},
   "outputs": [],
   "source": [
    "print(f'A média de quilometros percorridos das motos da base de dados é de {media_km:.2f} Km')"
   ]
  },
  {
   "cell_type": "markdown",
   "id": "38f125a3",
   "metadata": {},
   "source": [
    "#### 13. Existem quantas motos dentro da base de dados que são motos de um único dono?"
   ]
  },
  {
   "cell_type": "markdown",
   "id": "47a5f45f",
   "metadata": {},
   "source": [
    "##### Planejamento"
   ]
  },
  {
   "cell_type": "markdown",
   "id": "34ed50bb",
   "metadata": {},
   "source": [
    "Selecionar as linhas que possuem a coluna `owner` igual `1st owner` e depois fazer a contagem da quantidade de linhas"
   ]
  },
  {
   "cell_type": "markdown",
   "id": "d3cf410d",
   "metadata": {},
   "source": [
    "##### Resposta"
   ]
  },
  {
   "cell_type": "code",
   "execution_count": null,
   "id": "4c52a907",
   "metadata": {},
   "outputs": [],
   "source": [
    "unico_dono = df1[df1['owner'] == '1st owner'].shape[0]\n",
    "unico_dono"
   ]
  },
  {
   "cell_type": "code",
   "execution_count": null,
   "id": "9cd877a2",
   "metadata": {},
   "outputs": [],
   "source": [
    "print(f'A base de dados possui {unico_dono} motos de um único dono')"
   ]
  },
  {
   "cell_type": "code",
   "execution_count": null,
   "metadata": {},
   "outputs": [],
   "source": [
    "df_grouped = df1.groupby('owner').agg(\n",
    "    qty = pd.NamedAgg('id', 'count')\n",
    ").sort_values('qty').reset_index()\n",
    "\n",
    "ax = sns.barplot(\n",
    "    data=df_grouped,\n",
    "    x = 'owner',\n",
    "    y = 'qty'\n",
    ")\n",
    "\n",
    "ax.bar_label(ax.containers[0])\n",
    "\n",
    "ax.set(\n",
    "    title = 'Quantidade de Motos por tipo de dono',\n",
    "    xlabel = 'Tipo de Dono',\n",
    "    ylabel = 'Quantidade de donos'\n",
    ");"
   ]
  },
  {
   "cell_type": "markdown",
   "id": "d62d374f",
   "metadata": {},
   "source": [
    "#### 14. As motos com maior quilometragem são as motos mais baratas do Dataset?"
   ]
  },
  {
   "cell_type": "markdown",
   "id": "5cf94cc6",
   "metadata": {},
   "source": [
    "##### Planejamento"
   ]
  },
  {
   "cell_type": "markdown",
   "id": "02efa0e8",
   "metadata": {},
   "source": [
    "Categorizar as motos conforme a quantidade de quilometros percorridos. \n",
    "\n",
    "A cada 5 mil quilometros será criada uma nova categoria. E depois, será agrupado as categorias e calculado a média de cada categoria, para verificar qual é a categoria que tem a menor média de valor."
   ]
  },
  {
   "cell_type": "markdown",
   "id": "17a41632",
   "metadata": {},
   "source": [
    "##### Resposta"
   ]
  },
  {
   "cell_type": "code",
   "execution_count": null,
   "id": "ab0dcb17",
   "metadata": {
    "ExecuteTime": {
     "end_time": "2022-07-18T22:55:30.301073Z",
     "start_time": "2022-07-18T22:55:30.292776Z"
    }
   },
   "outputs": [],
   "source": [
    "df1.head()"
   ]
  },
  {
   "cell_type": "code",
   "execution_count": null,
   "id": "d0c5a7a1",
   "metadata": {
    "ExecuteTime": {
     "end_time": "2022-07-18T22:57:24.098724Z",
     "start_time": "2022-07-18T22:57:24.086587Z"
    }
   },
   "outputs": [],
   "source": [
    "# Aplica a classificação das motocicletas\n",
    "df1['km_class'] = df1['km_driven'].apply( lambda km_driven: create_km_class(km_driven) )\n",
    "df1.head()"
   ]
  },
  {
   "cell_type": "code",
   "execution_count": null,
   "id": "0973dcca",
   "metadata": {
    "ExecuteTime": {
     "end_time": "2022-07-18T22:58:29.238411Z",
     "start_time": "2022-07-18T22:58:29.234799Z"
    }
   },
   "outputs": [],
   "source": [
    "# Quantidade de classes no Dataset\n",
    "len(df1['km_class'].unique())"
   ]
  },
  {
   "cell_type": "code",
   "execution_count": null,
   "id": "cfb09e3c",
   "metadata": {
    "ExecuteTime": {
     "end_time": "2022-07-18T23:00:17.760317Z",
     "start_time": "2022-07-18T23:00:17.751080Z"
    }
   },
   "outputs": [],
   "source": [
    "df_grouped = df1[['km_class', 'selling_price']].groupby('km_class')\n",
    "\n",
    "df_grouped = df_grouped.mean().sort_values('selling_price', ascending=False).reset_index()\n",
    "\n",
    "df_grouped.head()"
   ]
  },
  {
   "cell_type": "markdown",
   "id": "643eee37",
   "metadata": {},
   "source": [
    "Como podemos observar, as motos com maior quilometragem não são as mais baratas na média. Visto que a maior classificação com relação à quilometragem percorrida é de 177."
   ]
  },
  {
   "cell_type": "code",
   "execution_count": null,
   "metadata": {},
   "outputs": [],
   "source": [
    "ax = sns.barplot(\n",
    "    data = df_grouped,\n",
    "    x = 'km_class',\n",
    "    y = 'selling_price'\n",
    ")\n",
    "\n",
    "ax.set(\n",
    "    title = 'Média de Preço das Motocicletas agrupadas por classe',\n",
    "    xlabel = 'Classe de Quilemtros percorridos (5 mil Km percorrido por classe)',\n",
    "    ylabel = 'Preço Médio de venda'\n",
    ")"
   ]
  },
  {
   "cell_type": "code",
   "execution_count": null,
   "metadata": {},
   "outputs": [],
   "source": [
    "ax = sns.scatterplot(\n",
    "    data = df1,\n",
    "    x = 'km_driven',\n",
    "    y = 'selling_price',\n",
    ")\n",
    "\n",
    "ax.set(\n",
    "    title = 'Relação entre Preço de Venda e Quilemetros Percorridos',\n",
    "    xlabel = 'Quilemetros Percorridos',\n",
    "    ylabel = 'Preço de Venda'\n",
    ");"
   ]
  },
  {
   "cell_type": "code",
   "execution_count": null,
   "metadata": {},
   "outputs": [],
   "source": [
    "print(f'Conforme podemos observar em ambos os gráficos, as motos que possuem mais quilometragem percorrida, são as mais baratas')"
   ]
  },
  {
   "cell_type": "markdown",
   "metadata": {},
   "source": [
    "### Segunda Rodada"
   ]
  },
  {
   "cell_type": "markdown",
   "id": "b3cb9c69",
   "metadata": {},
   "source": [
    "#### 1. As motos que possuiram somente 1 dono são as motos mais caras na média que as motos que tiveram mais donos?"
   ]
  },
  {
   "cell_type": "markdown",
   "id": "74c76201",
   "metadata": {
    "heading_collapsed": true
   },
   "source": [
    "##### Planejamento"
   ]
  },
  {
   "cell_type": "markdown",
   "id": "00b3f049",
   "metadata": {
    "hidden": true
   },
   "source": [
    "Agupar os dados por categoria de quantidade de donos, coluna `owner` e tirar a média dos valores de preço de venda para verificar qual é a categoria que possuí a maior média"
   ]
  },
  {
   "cell_type": "markdown",
   "id": "aba08194",
   "metadata": {},
   "source": [
    "##### Resposta"
   ]
  },
  {
   "cell_type": "code",
   "execution_count": null,
   "id": "d8cc0791",
   "metadata": {
    "ExecuteTime": {
     "end_time": "2022-07-20T23:35:26.624088Z",
     "start_time": "2022-07-20T23:35:26.596720Z"
    }
   },
   "outputs": [],
   "source": [
    "df_grouped = df1.groupby('owner')\n",
    "\n",
    "df_grouped = df_grouped.agg(\n",
    "    avg_price = pd.NamedAgg('selling_price', 'mean'),\n",
    "    qty = pd.NamedAgg('owner', 'count'),\n",
    ").sort_values('avg_price', ascending=False).reset_index()\n",
    "\n",
    "df_grouped['avg_price'] = df_grouped['avg_price'].round(2)\n",
    "\n",
    "df_grouped"
   ]
  },
  {
   "cell_type": "code",
   "execution_count": null,
   "id": "cff0c9a7",
   "metadata": {},
   "outputs": [],
   "source": [
    "ax = sns.barplot(\n",
    "    data = df_grouped,\n",
    "    x = 'owner',\n",
    "    y = 'avg_price',\n",
    ")\n",
    "\n",
    "ax.set(\n",
    "    title = 'Preço Médio das motos pelos tipos de donos',\n",
    "    xlabel = 'Tipo de dono',\n",
    "    ylabel = 'Preço Médio'\n",
    ");"
   ]
  },
  {
   "cell_type": "markdown",
   "id": "7a850547",
   "metadata": {},
   "source": [
    "Como podemos observar, na média, as motos mais caras são as motos que tiveram 4 donos."
   ]
  },
  {
   "cell_type": "markdown",
   "id": "6aa6a5e9",
   "metadata": {},
   "source": [
    "#### 2. As motos que possuiram mais donos são as motos que possuem quilometragem média maior que as motos que possuiram menos donos?"
   ]
  },
  {
   "cell_type": "markdown",
   "id": "d9fea30c",
   "metadata": {
    "heading_collapsed": true
   },
   "source": [
    "##### Planejamento"
   ]
  },
  {
   "cell_type": "markdown",
   "id": "9e6fbb6c",
   "metadata": {
    "hidden": true
   },
   "source": [
    "Agrupar os dados por quantidade de donos e calcular a média de quilometros percorridos por cada categoria"
   ]
  },
  {
   "cell_type": "markdown",
   "id": "db156069",
   "metadata": {},
   "source": [
    "##### Resposta"
   ]
  },
  {
   "cell_type": "code",
   "execution_count": null,
   "id": "699641a1",
   "metadata": {
    "ExecuteTime": {
     "end_time": "2022-07-20T22:35:43.301644Z",
     "start_time": "2022-07-20T22:35:43.285425Z"
    }
   },
   "outputs": [],
   "source": [
    "df_grouped = df1[['owner', 'km_driven']].groupby('owner')\n",
    "\n",
    "df_grouped = df_grouped.mean().sort_values('km_driven', ascending=False).reset_index()\n",
    "\n",
    "df_grouped"
   ]
  },
  {
   "cell_type": "code",
   "execution_count": null,
   "metadata": {},
   "outputs": [],
   "source": [
    "ax = sns.barplot(\n",
    "    data = df_grouped,\n",
    "    x = 'owner',\n",
    "    y = 'km_driven'\n",
    ")\n",
    "\n",
    "ax.bar_label(ax.containers[0])\n",
    "\n",
    "ax.set(\n",
    "    title = 'Quilomentragem Médio por cada tipo de Dono',\n",
    "    xlabel = 'Tipo de Dono',\n",
    "    ylabel = 'Quilomentragem Média'\n",
    ");"
   ]
  },
  {
   "cell_type": "markdown",
   "id": "8007d6b7",
   "metadata": {},
   "source": [
    "Como podemos observar, na média as motos que possuíram mais donos são as motos com maior quilemetragem percorrida"
   ]
  },
  {
   "cell_type": "markdown",
   "id": "eb3a9242",
   "metadata": {},
   "source": [
    "#### 3. As motos que possuiram mais donos são as motos mais velhas na média?"
   ]
  },
  {
   "cell_type": "markdown",
   "id": "0f8e040a",
   "metadata": {
    "heading_collapsed": true
   },
   "source": [
    "##### Planejamento"
   ]
  },
  {
   "cell_type": "markdown",
   "id": "1aba8fa6",
   "metadata": {
    "hidden": true
   },
   "source": [
    "__Passos:__\n",
    "1. Criar a coluna chamada `age` que terá como conteúdo a idade de cada moto. \n",
    "2. Agrupar as motos pelo tipo de dono e calcular a média de idade para cada tipo de dono."
   ]
  },
  {
   "cell_type": "markdown",
   "id": "df948312",
   "metadata": {},
   "source": [
    "##### Resposta"
   ]
  },
  {
   "cell_type": "code",
   "execution_count": null,
   "id": "a0b94941",
   "metadata": {
    "ExecuteTime": {
     "end_time": "2022-07-20T22:40:14.017421Z",
     "start_time": "2022-07-20T22:40:14.005337Z"
    }
   },
   "outputs": [],
   "source": [
    "df_grouped = df1[['owner', 'age']].groupby('owner')\n",
    "\n",
    "df_grouped = df_grouped.mean().sort_values('age', ascending=False).reset_index()\n",
    "\n",
    "df_grouped['age'] = df_grouped['age'].astype(int)\n",
    "\n",
    "df_grouped"
   ]
  },
  {
   "cell_type": "code",
   "execution_count": null,
   "metadata": {},
   "outputs": [],
   "source": [
    "ax = sns.barplot(\n",
    "    data = df_grouped,\n",
    "    x = 'owner',\n",
    "    y = 'age'\n",
    ")\n",
    "\n",
    "ax.bar_label(ax.containers[0])\n",
    "\n",
    "ax.set(\n",
    "    title = 'Média de tempo de uso das motos por tipo de dono',\n",
    "    xlabel = 'Tipos de Dono',\n",
    "    ylabel = 'Média de tempo de Uso (idade)'\n",
    ");"
   ]
  },
  {
   "cell_type": "markdown",
   "id": "f65fbbbe",
   "metadata": {},
   "source": [
    "Como podemos observar, as motos que possuiram mais donos são sim as motos com maior idade média dentro da base de dados."
   ]
  },
  {
   "cell_type": "markdown",
   "id": "3ddd42ae",
   "metadata": {},
   "source": [
    "#### 4. As motos que são vendidas por revendedores são as motos mais caras na média do que as motos vendidas pelos seus donos?"
   ]
  },
  {
   "cell_type": "markdown",
   "id": "794d732f",
   "metadata": {
    "heading_collapsed": true
   },
   "source": [
    "##### Planejamento"
   ]
  },
  {
   "cell_type": "markdown",
   "id": "7502f8c4",
   "metadata": {
    "hidden": true
   },
   "source": [
    "Agrupar os dados pelos tipos de vendedores e calcular a média do preço de venda por tipo de vendedor"
   ]
  },
  {
   "cell_type": "markdown",
   "id": "e7398ada",
   "metadata": {},
   "source": [
    "##### Resposta"
   ]
  },
  {
   "cell_type": "code",
   "execution_count": null,
   "id": "3a6f34b3",
   "metadata": {
    "ExecuteTime": {
     "end_time": "2022-07-20T22:45:37.653202Z",
     "start_time": "2022-07-20T22:45:37.628661Z"
    }
   },
   "outputs": [],
   "source": [
    "df_grouped = df1[['seller_type', 'selling_price']].groupby('seller_type')\n",
    "\n",
    "df_grouped = df_grouped.agg(\n",
    "    avg_price = pd.NamedAgg('selling_price', 'mean'),\n",
    "    median_price = pd.NamedAgg('selling_price', 'median'),\n",
    "    std_price = pd.NamedAgg('selling_price', 'std'),\n",
    "    qty = pd.NamedAgg('seller_type', 'count'),\n",
    ").sort_values('avg_price', ascending=False).reset_index()\n",
    "\n",
    "df_grouped"
   ]
  },
  {
   "cell_type": "code",
   "execution_count": null,
   "metadata": {},
   "outputs": [],
   "source": [
    "ax = sns.barplot(\n",
    "    data = df_grouped,\n",
    "    x = 'seller_type',\n",
    "    y = 'avg_price'\n",
    ")\n",
    "\n",
    "ax.bar_label(ax.containers[0])\n",
    "\n",
    "ax.set(\n",
    "    title = 'Média de preço de venda das motos por tipo de dono',\n",
    "    xlabel = 'Tipos de Dono',\n",
    "    ylabel = 'Média de preço de venda'\n",
    ");"
   ]
  },
  {
   "cell_type": "markdown",
   "id": "6a34d040",
   "metadata": {},
   "source": [
    "Como podemos observar, as motos que são revendidas pelos seus donos são as mais caras na média."
   ]
  },
  {
   "cell_type": "markdown",
   "id": "b1dd646b",
   "metadata": {},
   "source": [
    "#### 5. O CEO lhe entregou um novo dataset chamado `companies.csv`, onde estão todas as fabricantes de motocicletas. Adicione uma coluna no DataFrame com o nome de `company`. Essa coluna deve possuir o nome do fabricante de cada moto do DataFrame."
   ]
  },
  {
   "cell_type": "markdown",
   "id": "7159e48c",
   "metadata": {
    "heading_collapsed": true
   },
   "source": [
    "##### Planejamento"
   ]
  },
  {
   "cell_type": "markdown",
   "id": "8f6d6c33",
   "metadata": {
    "hidden": true
   },
   "source": [
    "__Passos:__\n",
    "1. O novo dataset está dentro do diretório **data/raw** com o nome `companies.csv`. \n",
    "2. Fazer a leitura do arquivo e guardar as infomações dentro de um DataFrame.\n",
    "3. Percorrer os dados do DataFrame de motos e verificar no DataFrame de fabricantes qual é o fabricante da motocicleta em questão\n",
    "    1. Preencher a coluna `company` com o nome do fabricante encontrado."
   ]
  },
  {
   "cell_type": "markdown",
   "id": "aba5431e",
   "metadata": {},
   "source": [
    "##### Resposta"
   ]
  },
  {
   "cell_type": "markdown",
   "id": "c891bc81",
   "metadata": {
    "hidden": true
   },
   "source": [
    "Processo já realizado na preparação dos dados"
   ]
  },
  {
   "cell_type": "markdown",
   "id": "f44b9ca8",
   "metadata": {},
   "source": [
    "#### 6. Crie um novo dataset chamado `bikes_completed.csv` a partir do DataFrame com a coluna company preenchida."
   ]
  },
  {
   "cell_type": "markdown",
   "id": "deff12d2",
   "metadata": {
    "heading_collapsed": true
   },
   "source": [
    "##### Planejamento"
   ]
  },
  {
   "cell_type": "markdown",
   "id": "c444afbe",
   "metadata": {
    "hidden": true
   },
   "source": [
    "__Passos:__\n",
    "1. Criar um novo Dataset chamado `bikes_completed` utilizando a função `df.to_csv()` a partir do DataFrame criado na questão anterior\n",
    "2. Salvar o arquivo criado dentro do diretório `data/processed`"
   ]
  },
  {
   "cell_type": "markdown",
   "id": "b523f88f",
   "metadata": {},
   "source": [
    "##### Resposta"
   ]
  },
  {
   "cell_type": "code",
   "execution_count": null,
   "id": "35bf13cf",
   "metadata": {
    "ExecuteTime": {
     "end_time": "2022-07-25T22:33:20.143931Z",
     "start_time": "2022-07-25T22:33:20.133248Z"
    }
   },
   "outputs": [],
   "source": [
    "df1.to_csv('../data/processed/bikes_completed.csv', index=False)"
   ]
  },
  {
   "cell_type": "markdown",
   "id": "7c29cbd6",
   "metadata": {},
   "source": [
    "#### 7. Quais são so fabricantes que mais possuem motos cadastradas na base de dados completa?"
   ]
  },
  {
   "cell_type": "markdown",
   "id": "818a2da7",
   "metadata": {
    "heading_collapsed": true
   },
   "source": [
    "##### Planejamento"
   ]
  },
  {
   "cell_type": "markdown",
   "id": "97ee8d46",
   "metadata": {
    "hidden": true
   },
   "source": [
    "Agrupar os dados pelos fabricantes e contar a quantidade de dados que cada fabricante possui"
   ]
  },
  {
   "cell_type": "markdown",
   "id": "0ada4a4f",
   "metadata": {
    "heading_collapsed": true
   },
   "source": [
    "##### Resposta"
   ]
  },
  {
   "cell_type": "code",
   "execution_count": null,
   "metadata": {},
   "outputs": [],
   "source": [
    "df1.head()"
   ]
  },
  {
   "cell_type": "code",
   "execution_count": null,
   "id": "9391ae5c",
   "metadata": {
    "ExecuteTime": {
     "end_time": "2022-07-20T21:47:24.999368Z",
     "start_time": "2022-07-20T21:47:24.988355Z"
    },
    "hidden": true
   },
   "outputs": [],
   "source": [
    "df_grouped = df1.loc[:, ['company', 'id']].groupby('company')\n",
    "\n",
    "df_grouped = df_grouped.count().sort_values('id', ascending=False).reset_index()\n",
    "\n",
    "df_grouped"
   ]
  },
  {
   "cell_type": "code",
   "execution_count": null,
   "metadata": {},
   "outputs": [],
   "source": [
    "ax = sns.barplot(\n",
    "    data = df_grouped,\n",
    "    x = 'company',\n",
    "    y = 'id'\n",
    ")\n",
    "\n",
    "ax.bar_label(ax.containers[0])\n",
    "\n",
    "ax.set(\n",
    "    title = 'Quantidade de Motos por Fabricante',\n",
    "    xlabel = 'Fabricantes',\n",
    "    ylabel = 'Quantidade de Motos Registradas'\n",
    ")\n",
    "\n",
    "plt.xticks(rotation = 80);"
   ]
  },
  {
   "cell_type": "markdown",
   "id": "fcca8ba7",
   "metadata": {
    "hidden": true
   },
   "source": [
    "Como podemos observar, a fabricante que mais possui motos cadastradas na base de dados é a Bajaj"
   ]
  },
  {
   "cell_type": "markdown",
   "metadata": {},
   "source": [
    "### Terceira Rodada"
   ]
  },
  {
   "cell_type": "markdown",
   "id": "b3cb9c69",
   "metadata": {},
   "source": [
    "#### 1. Ajustar a coluna `name` para que ela fique somente com o nome da moto."
   ]
  },
  {
   "cell_type": "markdown",
   "id": "74c76201",
   "metadata": {},
   "source": [
    "##### Planejamento"
   ]
  },
  {
   "cell_type": "markdown",
   "id": "00b3f049",
   "metadata": {},
   "source": [
    "__Passos:__\n",
    "1. Todos os registros da coluna `name` iniciam com os nomes dos seus respectivos fabricantes.\n",
    "2. Percorrer todos os dados e substituir o nome do fabricante por nenhum caractere"
   ]
  },
  {
   "cell_type": "markdown",
   "id": "aba08194",
   "metadata": {
    "heading_collapsed": true
   },
   "source": [
    "##### Resposta"
   ]
  },
  {
   "cell_type": "code",
   "execution_count": null,
   "id": "d8cc0791",
   "metadata": {
    "hidden": true
   },
   "outputs": [],
   "source": [
    "df1['name'] = df1.apply(lambda line: line['name'].replace(f\"{line['company']} \", ''), axis=1)\n",
    "\n",
    "df1.head()"
   ]
  },
  {
   "cell_type": "markdown",
   "id": "6aa6a5e9",
   "metadata": {},
   "source": [
    "#### 2. Qual das fabricantes possui o maior preço médio de suas motos?"
   ]
  },
  {
   "cell_type": "markdown",
   "id": "9170203d",
   "metadata": {},
   "source": [
    "##### Planejamento"
   ]
  },
  {
   "cell_type": "markdown",
   "id": "63b4e7ff",
   "metadata": {},
   "source": [
    "Agrupar os dados por fabricante e calcular a média do preço de revenda de cada fabricante"
   ]
  },
  {
   "cell_type": "markdown",
   "id": "dba774c9",
   "metadata": {},
   "source": [
    "##### Resposta"
   ]
  },
  {
   "cell_type": "code",
   "execution_count": null,
   "metadata": {},
   "outputs": [],
   "source": [
    "df_grouped = df1[['company', 'selling_price']].groupby('company')\n",
    "\n",
    "df_grouped = df_grouped.agg(\n",
    "    avg_price = pd.NamedAgg('selling_price', 'mean'),\n",
    "    median_price = pd.NamedAgg('selling_price', 'median'),\n",
    "    std_price = pd.NamedAgg('selling_price', 'std'),\n",
    "    qty = pd.NamedAgg('company', 'count'),\n",
    ").sort_values('avg_price', ascending=False).reset_index()\n",
    "\n",
    "df_grouped"
   ]
  },
  {
   "cell_type": "code",
   "execution_count": null,
   "id": "9eecaafb",
   "metadata": {
    "ExecuteTime": {
     "end_time": "2022-07-25T22:58:25.300463Z",
     "start_time": "2022-07-25T22:58:25.282658Z"
    }
   },
   "outputs": [],
   "source": [
    "ax = sns.barplot(\n",
    "    data = df_grouped,\n",
    "    x = 'company',\n",
    "    y = 'avg_price'\n",
    ")\n",
    "\n",
    "ax.bar_label(ax.containers[0])\n",
    "\n",
    "ax.set(\n",
    "    title = 'Preço Médio de Venda por Fabricante',\n",
    "    xlabel = 'Fabricante',\n",
    "    ylabel = 'Preço de Venda Médio'\n",
    ")\n",
    "\n",
    "plt.xticks(rotation = 80);"
   ]
  },
  {
   "cell_type": "markdown",
   "id": "8007d6b7",
   "metadata": {},
   "source": [
    "Como podemos observar, a fabricante que possui as motos com o maior valor médio para venda é a Harley-Davidson"
   ]
  },
  {
   "cell_type": "markdown",
   "id": "eb3a9242",
   "metadata": {},
   "source": [
    "#### 3. Qual o fabricante que possui a moto com o maior quilometragem?"
   ]
  },
  {
   "cell_type": "markdown",
   "id": "18929e30",
   "metadata": {
    "heading_collapsed": true
   },
   "source": [
    "##### Planejamento"
   ]
  },
  {
   "cell_type": "markdown",
   "id": "6161ef8f",
   "metadata": {
    "hidden": true
   },
   "source": [
    "Agrupar os dados pela coluna de fabricante e verificar qual é o registro que possuí o maior valor de quilometragem percorrido"
   ]
  },
  {
   "cell_type": "markdown",
   "id": "c61b1957",
   "metadata": {
    "heading_collapsed": true
   },
   "source": [
    "##### Resposta"
   ]
  },
  {
   "cell_type": "code",
   "execution_count": null,
   "id": "086139e3",
   "metadata": {
    "hidden": true
   },
   "outputs": [],
   "source": [
    "df_grouped = df1[['company', 'km_driven']].groupby('company')\n",
    "\n",
    "df_grouped = df_grouped.agg(\n",
    "    avg_km_driven = pd.NamedAgg('km_driven', 'mean'),\n",
    "    median_km_driven = pd.NamedAgg('km_driven', 'median'),\n",
    "    std_km_driven = pd.NamedAgg('km_driven', 'std'),\n",
    "    qty = pd.NamedAgg('company', 'count'),\n",
    ").sort_values('avg_km_driven', ascending=False).reset_index()\n",
    "\n",
    "df_grouped"
   ]
  },
  {
   "cell_type": "code",
   "execution_count": null,
   "id": "a384ccd4",
   "metadata": {
    "hidden": true
   },
   "outputs": [],
   "source": [
    "ax = sns.barplot(\n",
    "    data = df_grouped,\n",
    "    x = 'company',\n",
    "    y = 'avg_km_driven'\n",
    ")\n",
    "\n",
    "ax.bar_label(ax.containers[0])\n",
    "\n",
    "ax.set(\n",
    "    title = 'Quilemtragem Média Percorrida por Fabricante',\n",
    "    xlabel = 'Fabricante',\n",
    "    ylabel = 'Média de Quilometragem percorrida'\n",
    ")\n",
    "\n",
    "plt.xticks(rotation = 80);"
   ]
  },
  {
   "cell_type": "markdown",
   "id": "f65fbbbe",
   "metadata": {
    "hidden": true
   },
   "source": [
    "Como podemos observar, a fabricante `Activia` é a que possui a moto com a maior distância percorrida na base de dados"
   ]
  },
  {
   "cell_type": "markdown",
   "id": "3ddd42ae",
   "metadata": {},
   "source": [
    "#### 4. Qual o fabricante que possui a moto mais velha?"
   ]
  },
  {
   "cell_type": "markdown",
   "id": "8764eedc",
   "metadata": {
    "heading_collapsed": true
   },
   "source": [
    "##### Planejamento"
   ]
  },
  {
   "cell_type": "markdown",
   "id": "847a8664",
   "metadata": {
    "hidden": true
   },
   "source": [
    "Agrupar os dados por fabricante e verificar o registro que possui o menor ano de fabricação"
   ]
  },
  {
   "cell_type": "markdown",
   "id": "f26280fa",
   "metadata": {
    "heading_collapsed": true
   },
   "source": [
    "##### Resposta"
   ]
  },
  {
   "cell_type": "code",
   "execution_count": null,
   "id": "2449a222",
   "metadata": {
    "hidden": true
   },
   "outputs": [],
   "source": [
    "df_grouped = df1[['year', 'company']].groupby('company')\n",
    "\n",
    "df_grouped = df_grouped.min().sort_values('year', ascending=False).reset_index()\n",
    "\n",
    "df_grouped"
   ]
  },
  {
   "cell_type": "code",
   "execution_count": null,
   "id": "fdf62a5f",
   "metadata": {
    "hidden": true
   },
   "outputs": [],
   "source": [
    "ax = sns.barplot(\n",
    "    data=df_grouped, \n",
    "    x='company', \n",
    "    y='year'\n",
    ")\n",
    "\n",
    "ax.bar_label(ax.containers[0])\n",
    "\n",
    "ax.set(\n",
    "    xlabel='Fabricantes', \n",
    "    ylabel='Ano de Fabricação', \n",
    "    title='Maior distância percorrida por Fabricante', \n",
    "    ylim=[1980, 2022]\n",
    ")\n",
    "\n",
    "plt.xticks(rotation=75);"
   ]
  },
  {
   "cell_type": "markdown",
   "id": "6a34d040",
   "metadata": {
    "hidden": true
   },
   "source": [
    "Como podemos observar, a fabricante que possui a moto mais antiga na base de dados é a fabricante `Bajaj`"
   ]
  },
  {
   "cell_type": "markdown",
   "id": "b1dd646b",
   "metadata": {},
   "source": [
    "#### 5. O fabricante que possui a moto mais cara do Dataset é também o fabricante que possui menos motos cadastradas?"
   ]
  },
  {
   "cell_type": "markdown",
   "id": "d1d461b7",
   "metadata": {
    "heading_collapsed": true
   },
   "source": [
    "##### Planejamento"
   ]
  },
  {
   "cell_type": "markdown",
   "id": "9720875b",
   "metadata": {
    "hidden": true
   },
   "source": [
    "__Passos:__\n",
    "1. Agrupar os dados por fabricante. \n",
    "2. Selecionar as informações de preço de venda e de identificação. \n",
    "    1. Na coluna de preço de venda, verificar o valor mais caro\n",
    "    2. Na coluna de identificação, realizar a contagem."
   ]
  },
  {
   "cell_type": "markdown",
   "id": "608f3dff",
   "metadata": {
    "heading_collapsed": true
   },
   "source": [
    "##### Resposta"
   ]
  },
  {
   "cell_type": "code",
   "execution_count": null,
   "id": "eaa4620a",
   "metadata": {
    "hidden": true
   },
   "outputs": [],
   "source": [
    "df_grouped = df1[['id', 'selling_price', 'company']].groupby('company')\n",
    "\n",
    "df_grouped = df_grouped.agg(\n",
    "    max_selling_price = pd.NamedAgg('selling_price', 'max'),\n",
    "    quantity = pd.NamedAgg('id', 'count'),\n",
    ")\n",
    "\n",
    "df_grouped = df_grouped.reset_index().sort_values('max_selling_price', ascending=False)\n",
    "\n",
    "df_grouped.head()"
   ]
  },
  {
   "cell_type": "code",
   "execution_count": null,
   "id": "d00963e6",
   "metadata": {
    "hidden": true
   },
   "outputs": [],
   "source": [
    "ax = sns.scatterplot(\n",
    "    data = df_grouped, \n",
    "    x = 'company', \n",
    "    y = 'max_selling_price', \n",
    "    hue='quantity', \n",
    ")\n",
    "\n",
    "ax = ax.set(\n",
    "    title='Valor Máximo de Venda de cada Fabricante pela quantidade de Motos',\n",
    "    xlabel='Fabricantes',\n",
    "    ylabel='Maior valor de venda',\n",
    ")\n",
    "\n",
    "plt.xticks(rotation = 80)\n",
    "plt.legend(title='Quantidade de Motos', loc='upper right');"
   ]
  },
  {
   "cell_type": "markdown",
   "id": "84ff849e",
   "metadata": {
    "hidden": true
   },
   "source": [
    "Como podemos observar, o fabricante que possui a moto mais cara na base de dados não é o fabricante que possui a menor quantidade de motos."
   ]
  },
  {
   "cell_type": "markdown",
   "id": "f44b9ca8",
   "metadata": {},
   "source": [
    "#### 6. Qual o fabricante que possui a menor variação de valor de venda?"
   ]
  },
  {
   "cell_type": "markdown",
   "id": "df7b3692",
   "metadata": {
    "heading_collapsed": true
   },
   "source": [
    "##### Planejamento"
   ]
  },
  {
   "cell_type": "markdown",
   "id": "8694e438",
   "metadata": {
    "hidden": true
   },
   "source": [
    "**Passos:**\n",
    "1. Vamos agrupar os dados pela coluna de fabricante\n",
    "2. Calcular a média do preço de venda\n",
    "3. Calcular o desvio padrão do preço de venda\n",
    "4. Verificar qual fabricante possui o maior valor de desvio\n",
    "5. Utilizar a função `agg` do pacote Pandas para fazer os cálculos."
   ]
  },
  {
   "cell_type": "markdown",
   "id": "68650072",
   "metadata": {},
   "source": [
    "##### Resposta"
   ]
  },
  {
   "cell_type": "code",
   "execution_count": null,
   "id": "1f96e0e5",
   "metadata": {
    "ExecuteTime": {
     "end_time": "2022-07-25T23:14:09.947462Z",
     "start_time": "2022-07-25T23:14:09.924135Z"
    }
   },
   "outputs": [],
   "source": [
    "df_grouped = df1[['selling_price', 'company']].groupby('company')\n",
    "\n",
    "df_grouped = df_grouped.agg(\n",
    "    std = pd.NamedAgg('selling_price', 'std'),\n",
    "    mean = pd.NamedAgg('selling_price', 'mean'),\n",
    ")\n",
    "\n",
    "df_grouped = df_grouped.reset_index().sort_values('std').dropna()\n",
    "\n",
    "df_grouped.head()"
   ]
  },
  {
   "cell_type": "code",
   "execution_count": null,
   "id": "2c8913b2",
   "metadata": {},
   "outputs": [],
   "source": [
    "ax = sns.barplot(\n",
    "    data = df_grouped, \n",
    "    x = 'company', \n",
    "    y = 'std', \n",
    ")\n",
    "\n",
    "ax = ax.set(\n",
    "    title='Desvio do valor de venda de cada fabricante',\n",
    "    xlabel='Fabricantes',\n",
    "    ylabel='Valor do Desvio do valor de venda',\n",
    ")\n",
    "\n",
    "plt.xticks(rotation = 80);"
   ]
  },
  {
   "cell_type": "markdown",
   "id": "7c29cbd6",
   "metadata": {},
   "source": [
    "#### 7. Quais motos eu devo comprar?"
   ]
  },
  {
   "cell_type": "markdown",
   "id": "db60f162",
   "metadata": {},
   "source": [
    "Leve em conta que eu desejo motos com no máximo 3 anos de uso; no máximo 40 mil quilometros rodados; que sejam de um único dono; que estejam sendo vendidas por possoas físicas e que tenham o valor pretendido de venda menor que o valor do showroom. Envie um relatório contendo o modelo, preço de venda, quilometro rodado e ano, ordenado por valor de venda de forma decrescente para o meu e-mail."
   ]
  },
  {
   "cell_type": "markdown",
   "id": "fedfb725",
   "metadata": {},
   "source": [
    "##### Planejamento"
   ]
  },
  {
   "cell_type": "markdown",
   "id": "2abe12a1",
   "metadata": {},
   "source": [
    "**Passos:**\n",
    "1. Selecionar somente as motos com no máximo 3 anos de uso\n",
    "2. Selecionar somente as motos com no máximo 40 mil quilometros rodados\n",
    "3. Selecionar somente vendedores que sejam pessoa física\n",
    "4. A motdeve possuir o valor de venda menor que o valor da venda menos impostos (coluns `showroom ex`)"
   ]
  },
  {
   "cell_type": "markdown",
   "id": "70f73fe6",
   "metadata": {},
   "source": [
    "##### Resposta"
   ]
  },
  {
   "cell_type": "code",
   "execution_count": null,
   "id": "288ad841",
   "metadata": {
    "ExecuteTime": {
     "end_time": "2022-07-25T23:27:08.956901Z",
     "start_time": "2022-07-25T23:27:08.949008Z"
    }
   },
   "outputs": [],
   "source": [
    "year = (df1['year'] >= 2018)\n",
    "km_rodado = (df1['km_driven'] <= 40000)\n",
    "donos = (df1['owner'] == '1st owner')\n",
    "vendedor = (df1['seller_type'] == 'Individual')\n",
    "venda = (df1['selling_price'] < df1['ex_showroom_price'])"
   ]
  },
  {
   "cell_type": "code",
   "execution_count": null,
   "id": "714d757e",
   "metadata": {
    "ExecuteTime": {
     "end_time": "2022-07-25T23:41:38.932924Z",
     "start_time": "2022-07-25T23:41:38.927379Z"
    }
   },
   "outputs": [],
   "source": [
    "columns = ['id', 'name', 'selling_price', 'km_driven', 'year']"
   ]
  },
  {
   "cell_type": "code",
   "execution_count": null,
   "id": "c243f34e",
   "metadata": {
    "ExecuteTime": {
     "end_time": "2022-07-25T23:41:39.058861Z",
     "start_time": "2022-07-25T23:41:39.054114Z"
    }
   },
   "outputs": [],
   "source": [
    "df_selected = df1.loc[ \n",
    "    year & km_rodado & donos & vendedor & venda,\n",
    "    columns\n",
    "].sort_values('selling_price', ascending = False)\n",
    "\n",
    "df_selected.head()"
   ]
  },
  {
   "cell_type": "code",
   "execution_count": null,
   "id": "3c0237cb",
   "metadata": {
    "ExecuteTime": {
     "end_time": "2022-07-25T23:34:17.551057Z",
     "start_time": "2022-07-25T23:34:17.512859Z"
    }
   },
   "outputs": [],
   "source": [
    "df_selected.to_excel('../data/exported/bikes.xlsx', index = False)"
   ]
  },
  {
   "cell_type": "code",
   "execution_count": null,
   "metadata": {},
   "outputs": [],
   "source": []
  }
 ],
 "metadata": {
  "kernelspec": {
   "display_name": "Python 3.10.6 64-bit ('curso_git')",
   "language": "python",
   "name": "python3"
  },
  "language_info": {
   "codemirror_mode": {
    "name": "ipython",
    "version": 3
   },
   "file_extension": ".py",
   "mimetype": "text/x-python",
   "name": "python",
   "nbconvert_exporter": "python",
   "pygments_lexer": "ipython3",
   "version": "3.10.14"
  },
  "orig_nbformat": 4,
  "vscode": {
   "interpreter": {
    "hash": "d715e13da32838b955c551b27a14d7db3666e23eca9451c75dffd882de07cb7b"
   }
  }
 },
 "nbformat": 4,
 "nbformat_minor": 2
}
